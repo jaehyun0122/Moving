{
 "cells": [
  {
   "cell_type": "code",
   "execution_count": 1,
   "metadata": {},
   "outputs": [],
   "source": [
    "import pandas as pd\n",
    "import numpy as np\n",
    "import sqlite3\n",
    "from sklearn.decomposition import TruncatedSVD\n",
    "import scipy\n",
    "import threading"
   ]
  },
  {
   "cell_type": "code",
   "execution_count": 2,
   "metadata": {},
   "outputs": [],
   "source": [
    "svd_predicts = rating_data = movie_data = []"
   ]
  },
  {
   "cell_type": "code",
   "execution_count": 3,
   "metadata": {},
   "outputs": [],
   "source": [
    "con = sqlite3.connect(\"db.sqlite3\")\n",
    "\n",
    "movie_data = pd.read_sql_query(\"SELECT id,title from movies_movie\", con)\n",
    "rating_data = pd.read_sql_query(\"SELECT * from movies_rating\", con)\n",
    "rating_data.drop('id', axis=1, inplace=True)\n",
    "\n",
    "movie_data.rename(columns = {'id' : 'movie_id'}, inplace = True)\n",
    "\n",
    "user_movie_ratings = rating_data.pivot(\n",
    "    index='user_id',\n",
    "    columns='movie_id',\n",
    "    values='rank'\n",
    ").fillna(0)\n",
    "\n",
    "matrix = user_movie_ratings.values\n",
    "\n",
    "user_rating_mean = np.mean(matrix, axis = 1)\n",
    "\n",
    "matrix_user_mean = matrix - user_rating_mean.reshape(-1,1)\n",
    "\n",
    "U, sigma, Vt = scipy.sparse.linalg.svds(matrix_user_mean)\n",
    "sigma = np.diag(sigma)\n",
    "\n",
    "svd_user_predicted_ratings = np.dot(np.dot(U, sigma), Vt) + user_rating_mean.reshape(-1,1)\n",
    "\n",
    "svd_predicts = pd.DataFrame(svd_user_predicted_ratings, columns = user_movie_ratings.columns)"
   ]
  },
  {
   "cell_type": "code",
   "execution_count": 4,
   "metadata": {},
   "outputs": [],
   "source": [
    "def user_recommend(user_index,user_id):\n",
    "    try:\n",
    "        sorted_user_prediction = svd_predicts.iloc[user_index].sort_values(ascending=False)\n",
    "        user_data = rating_data[rating_data.user_id == (user_id)]\n",
    "        user_history = user_data.merge(movie_data, on='movie_id').sort_values(['rank'], ascending=False)\n",
    "        recommendations = movie_data[~movie_data['movie_id'].isin(user_history['movie_id'])]\n",
    "\n",
    "        recommendations = recommendations.merge(pd.DataFrame(sorted_user_prediction).reset_index(), on='movie_id')\n",
    "\n",
    "        recommendations = recommendations.rename(columns = {user_index:'Predictions'}).sort_values('Predictions', ascending=False)\n",
    "        # print(\"recommendations= \", recommendations, sep='\\n')\n",
    "\n",
    "        return user_history, recommendations.head(20)\n",
    "    except:\n",
    "        return [], []"
   ]
  },
  {
   "cell_type": "code",
   "execution_count": 16,
   "metadata": {},
   "outputs": [],
   "source": [
    "from tabulate import tabulate"
   ]
  },
  {
   "cell_type": "code",
   "execution_count": 24,
   "metadata": {},
   "outputs": [
    {
     "name": "stdout",
     "output_type": "stream",
     "text": [
      "movie_id        5             11            12            13      \\\n",
      "0         9.999829e-01  5.997190e+00  9.994956e+00  9.999508e+00   \n",
      "1        -8.590364e-22  1.235987e-18  2.225464e-18  2.209698e-17   \n",
      "2         6.290040e-05  1.032190e-02  1.852910e-02  1.807332e-03   \n",
      "3         2.081784e-04  3.416189e-02  6.132486e-02  5.981640e-03   \n",
      "4         1.395458e-05  2.289933e-03  4.110716e-03  1.000040e+01   \n",
      "5         1.074525e-04  1.763286e-02  3.165318e-02  3.087458e-03   \n",
      "6        -1.174113e-04 -1.926709e-02 -3.458683e-02 -3.373607e-03   \n",
      "7        -5.280005e-18 -4.489749e-16 -8.039308e-16 -6.652161e-15   \n",
      "8        -6.721604e-04 -1.103009e-01 -1.980039e-01 -1.931334e-02   \n",
      "\n",
      "movie_id        15            16            18            19      \\\n",
      "0         9.999829e-01  9.999829e-01  1.035034e+00  9.999829e-01   \n",
      "1        -8.590364e-22 -8.590364e-22  2.550755e-17 -8.590364e-22   \n",
      "2         6.290040e-05  6.290040e-05 -1.286974e-01  6.290040e-05   \n",
      "3         2.081784e-04  2.081784e-04 -4.259436e-01  2.081784e-04   \n",
      "4         1.395458e-05  1.395458e-05 -2.855177e-02  1.395458e-05   \n",
      "5         1.074525e-04  1.074525e-04  9.780147e+00  1.074525e-04   \n",
      "6        -1.174113e-04 -1.174113e-04  2.402295e-01 -1.174113e-04   \n",
      "7        -5.280005e-18 -5.280005e-18 -6.136153e-15 -5.280005e-18   \n",
      "8        -6.721604e-04 -6.721604e-04  1.375274e+00 -6.721604e-04   \n",
      "\n",
      "movie_id        22            24      ...        940497        940660  \\\n",
      "0         1.030679e+00  9.999829e-01  ...  9.999829e-01  9.999829e-01   \n",
      "1        -1.289738e-17 -8.590364e-22  ... -8.590364e-22 -8.590364e-22   \n",
      "2        -1.127022e-01  6.290040e-05  ...  6.290040e-05  6.290040e-05   \n",
      "3         7.626995e+00  2.081784e-04  ...  2.081784e-04  2.081784e-04   \n",
      "4        -2.500319e-02  1.395458e-05  ...  1.395458e-05  1.395458e-05   \n",
      "5         1.807471e+00  1.074525e-04  ...  1.074525e-04  1.074525e-04   \n",
      "6         8.210372e+00 -1.174113e-04  ... -1.174113e-04 -1.174113e-04   \n",
      "7         4.732549e-15 -5.280005e-18  ... -5.280005e-18 -5.280005e-18   \n",
      "8         1.204347e+00 -6.721604e-04  ... -6.721604e-04 -6.721604e-04   \n",
      "\n",
      "movie_id        940666        940756        940821        940831  \\\n",
      "0         9.999829e-01  9.999829e-01  9.999829e-01  9.999829e-01   \n",
      "1        -8.590364e-22 -8.590364e-22 -8.590364e-22 -8.590364e-22   \n",
      "2         6.290040e-05  6.290040e-05  6.290040e-05  6.290040e-05   \n",
      "3         2.081784e-04  2.081784e-04  2.081784e-04  2.081784e-04   \n",
      "4         1.395458e-05  1.395458e-05  1.395458e-05  1.395458e-05   \n",
      "5         1.074525e-04  1.074525e-04  1.074525e-04  1.074525e-04   \n",
      "6        -1.174113e-04 -1.174113e-04 -1.174113e-04 -1.174113e-04   \n",
      "7        -5.280005e-18 -5.280005e-18 -5.280005e-18 -5.280005e-18   \n",
      "8        -6.721604e-04 -6.721604e-04 -6.721604e-04 -6.721604e-04   \n",
      "\n",
      "movie_id        943022        943054        943491        943662  \n",
      "0         9.999829e-01  9.999829e-01  9.999829e-01  9.999829e-01  \n",
      "1        -8.590364e-22 -8.590364e-22 -8.590364e-22 -8.590364e-22  \n",
      "2         6.290040e-05  6.290040e-05  6.290040e-05  6.290040e-05  \n",
      "3         2.081784e-04  2.081784e-04  2.081784e-04  2.081784e-04  \n",
      "4         1.395458e-05  1.395458e-05  1.395458e-05  1.395458e-05  \n",
      "5         1.074525e-04  1.074525e-04  1.074525e-04  1.074525e-04  \n",
      "6        -1.174113e-04 -1.174113e-04 -1.174113e-04 -1.174113e-04  \n",
      "7        -5.280005e-18 -5.280005e-18 -5.280005e-18 -5.280005e-18  \n",
      "8        -6.721604e-04 -6.721604e-04 -6.721604e-04 -6.721604e-04  \n",
      "\n",
      "[9 rows x 9046 columns]\n"
     ]
    }
   ],
   "source": [
    "print(svd_predicts)"
   ]
  },
  {
   "cell_type": "code",
   "execution_count": 17,
   "metadata": {},
   "outputs": [
    {
     "name": "stdout",
     "output_type": "stream",
     "text": [
      "+----+--------+------------+-----------+-----------------------------------------------+\n",
      "|    |   rank |   movie_id |   user_id | title                                         |\n",
      "|----+--------+------------+-----------+-----------------------------------------------|\n",
      "| 36 |     10 |     496243 |         3 | 기생충                                        |\n",
      "| 22 |     10 |     299536 |         3 | 어벤져스: 인피니티 워                         |\n",
      "| 25 |     10 |     284052 |         3 | 닥터 스트레인지                               |\n",
      "|  1 |     10 |     760517 |         3 | 모럴센스                                      |\n",
      "| 27 |     10 |     791373 |         3 | 잭 스나이더의 저스티스 리그                   |\n",
      "| 28 |     10 |     284053 |         3 | 토르: 라그나로크                              |\n",
      "| 15 |     10 |     429617 |         3 | 스파이더맨: 파 프롬 홈                        |\n",
      "| 29 |     10 |     363088 |         3 | 앤트맨과 와스프                               |\n",
      "| 13 |     10 |     102899 |         3 | 앤트맨                                        |\n",
      "| 12 |     10 |      24428 |         3 | 어벤져스                                      |\n",
      "| 11 |     10 |     476669 |         3 | 킹스맨: 퍼스트 에이전트                       |\n",
      "| 30 |     10 |      27205 |         3 | 인셉션                                        |\n",
      "| 31 |     10 |     118340 |         3 | 가디언즈 오브 갤럭시                          |\n",
      "| 32 |     10 |     283995 |         3 | 가디언즈 오브 갤럭시 Vol. 2                   |\n",
      "|  7 |     10 |      49026 |         3 | 다크 나이트 라이즈                            |\n",
      "|  6 |     10 |     634649 |         3 | 스파이더맨: 노 웨이 홈                        |\n",
      "| 33 |     10 |     447365 |         3 | 가디언즈 오브 갤럭시 Vol. 3                   |\n",
      "|  4 |     10 |      11897 |         3 | 서부 개척사                                   |\n",
      "| 34 |     10 |      89501 |         3 | 범죄와의 전쟁: 나쁜놈들 전성시대              |\n",
      "| 35 |     10 |     133200 |         3 | 광해, 왕이 된 남자                            |\n",
      "| 21 |     10 |     157336 |         3 | 인터스텔라                                    |\n",
      "| 23 |      8 |       1930 |         3 | 어메이징 스파이더맨                           |\n",
      "| 18 |      8 |      76338 |         3 | 토르: 다크 월드                               |\n",
      "| 20 |      8 |     387426 |         3 | 옥자                                          |\n",
      "| 19 |      8 |         58 |         3 | 캐리비안의 해적: 망자의 함                    |\n",
      "| 17 |      8 |     566525 |         3 | 샹치와 텐 링즈의 전설                         |\n",
      "| 16 |      8 |      76341 |         3 | 매드 맥스: 분노의 도로                        |\n",
      "| 10 |      8 |     726684 |         3 | 미라큘러스 월드: 상하이, 레이디 드레곤의 전설 |\n",
      "|  9 |      8 |     718930 |         3 | 불릿 트레인                                   |\n",
      "|  8 |      8 |      57158 |         3 | 호빗: 스마우그의 폐허                         |\n",
      "|  5 |      8 |     414906 |         3 | 더 배트맨                                     |\n",
      "|  3 |      8 |         33 |         3 | 용서받지 못한 자                              |\n",
      "|  2 |      8 |      84111 |         3 | 그 시절, 우리가 좋아했던 소녀                 |\n",
      "| 24 |      6 |      76025 |         3 | 셰임                                          |\n",
      "| 26 |      6 |     141052 |         3 | 저스티스 리그                                 |\n",
      "| 14 |      4 |     526896 |         3 | 모비우스                                      |\n",
      "|  0 |      0 |          5 |         3 | 포룸                                          |\n",
      "+----+--------+------------+-----------+-----------------------------------------------+\n"
     ]
    }
   ],
   "source": [
    "history, recc = user_recommend(3, 3)\n",
    "print(tabulate(history, headers='keys', tablefmt='psql', showindex=True))"
   ]
  },
  {
   "cell_type": "code",
   "execution_count": 18,
   "metadata": {},
   "outputs": [
    {
     "name": "stdout",
     "output_type": "stream",
     "text": [
      "+------+------------+--------------------------------------+---------------+\n",
      "|      |   movie_id | title                                |   Predictions |\n",
      "|------+------------+--------------------------------------+---------------|\n",
      "|  363 |        671 | 해리 포터와 마법사의 돌              |      10.4711  |\n",
      "|  364 |        672 | 해리 포터와 비밀의 방                |       9.5471  |\n",
      "|   61 |        122 | 반지의 제왕: 왕의 귀환               |       9.45397 |\n",
      "|   59 |        120 | 반지의 제왕: 반지 원정대             |       9.3292  |\n",
      "| 4127 |      49051 | 호빗: 뜻밖의 여정                    |       8.74843 |\n",
      "| 5397 |     259316 | 신비한 동물사전                      |       7.80536 |\n",
      "| 2617 |      12444 | 해리 포터와 죽음의 성물 1            |       7.67902 |\n",
      "|    7 |         22 | 캐리비안의 해적: 블랙펄의 저주       |       7.627   |\n",
      "| 5769 |     315635 | 스파이더맨: 홈커밍                   |       7.40082 |\n",
      "|  274 |        559 | 스파이더맨 3                         |       7.40082 |\n",
      "| 6862 |     447404 | 명탐정 피카츄                        |       7.33971 |\n",
      "|  365 |        673 | 해리 포터와 아즈카반의 죄수          |       7.33971 |\n",
      "| 4797 |     122917 | 호빗: 다섯 군대 전투                 |       7.33971 |\n",
      "|  272 |        557 | 스파이더맨                           |       5.56595 |\n",
      "|  273 |        558 | 스파이더맨 2                         |       5.56595 |\n",
      "|  309 |        603 | 매트릭스                             |       5.50483 |\n",
      "| 4973 |     166426 | 캐리비안의 해적: 죽은 자는 말이 없다 |       5.50483 |\n",
      "| 2618 |      12445 | 해리 포터와 죽음의 성물 2            |       2.13281 |\n",
      "| 4543 |      80585 | 락 오브 에이지                       |       1.59966 |\n",
      "| 5945 |     338953 | 신비한 동물들과 덤블도어의 비밀      |       1.31986 |\n",
      "+------+------------+--------------------------------------+---------------+\n"
     ]
    }
   ],
   "source": [
    "print(tabulate(recc, headers='keys', tablefmt='psql', showindex=True))"
   ]
  },
  {
   "cell_type": "code",
   "execution_count": null,
   "metadata": {},
   "outputs": [],
   "source": []
  }
 ],
 "metadata": {
  "interpreter": {
   "hash": "47ca42389c5da864efc14bed76c4ab2b17da9c722ab2384362594ad9157b688d"
  },
  "kernelspec": {
   "display_name": "Python 3.9.7 ('venv': venv)",
   "language": "python",
   "name": "python3"
  },
  "language_info": {
   "codemirror_mode": {
    "name": "ipython",
    "version": 3
   },
   "file_extension": ".py",
   "mimetype": "text/x-python",
   "name": "python",
   "nbconvert_exporter": "python",
   "pygments_lexer": "ipython3",
   "version": "3.9.7"
  },
  "orig_nbformat": 4
 },
 "nbformat": 4,
 "nbformat_minor": 2
}
